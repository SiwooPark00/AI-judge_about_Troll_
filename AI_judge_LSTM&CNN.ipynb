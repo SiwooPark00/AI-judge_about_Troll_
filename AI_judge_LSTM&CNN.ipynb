{
  "nbformat": 4,
  "nbformat_minor": 0,
  "metadata": {
    "colab": {
      "name": "201920216_박시우_AI_judge_LSTM&CNN.ipynb",
      "provenance": [],
      "collapsed_sections": []
    },
    "kernelspec": {
      "name": "python3",
      "display_name": "Python 3"
    },
    "language_info": {
      "name": "python"
    },
    "gpuClass": "standard"
  },
  "cells": [
    {
      "cell_type": "markdown",
      "source": [
        "##Library"
      ],
      "metadata": {
        "id": "Ibp1d8_nlMFP"
      }
    },
    {
      "cell_type": "code",
      "source": [
        "!pip install transformers"
      ],
      "metadata": {
        "colab": {
          "base_uri": "https://localhost:8080/"
        },
        "id": "fp4MP-Xm_IgX",
        "outputId": "6140136b-6f65-44e9-dc79-27572c4e3fa3"
      },
      "execution_count": 1,
      "outputs": [
        {
          "output_type": "stream",
          "name": "stdout",
          "text": [
            "Looking in indexes: https://pypi.org/simple, https://us-python.pkg.dev/colab-wheels/public/simple/\n",
            "Requirement already satisfied: transformers in /usr/local/lib/python3.7/dist-packages (4.20.0)\n",
            "Requirement already satisfied: pyyaml>=5.1 in /usr/local/lib/python3.7/dist-packages (from transformers) (6.0)\n",
            "Requirement already satisfied: tokenizers!=0.11.3,<0.13,>=0.11.1 in /usr/local/lib/python3.7/dist-packages (from transformers) (0.12.1)\n",
            "Requirement already satisfied: tqdm>=4.27 in /usr/local/lib/python3.7/dist-packages (from transformers) (4.64.0)\n",
            "Requirement already satisfied: huggingface-hub<1.0,>=0.1.0 in /usr/local/lib/python3.7/dist-packages (from transformers) (0.7.0)\n",
            "Requirement already satisfied: numpy>=1.17 in /usr/local/lib/python3.7/dist-packages (from transformers) (1.21.6)\n",
            "Requirement already satisfied: requests in /usr/local/lib/python3.7/dist-packages (from transformers) (2.23.0)\n",
            "Requirement already satisfied: regex!=2019.12.17 in /usr/local/lib/python3.7/dist-packages (from transformers) (2022.6.2)\n",
            "Requirement already satisfied: filelock in /usr/local/lib/python3.7/dist-packages (from transformers) (3.7.1)\n",
            "Requirement already satisfied: packaging>=20.0 in /usr/local/lib/python3.7/dist-packages (from transformers) (21.3)\n",
            "Requirement already satisfied: importlib-metadata in /usr/local/lib/python3.7/dist-packages (from transformers) (4.11.4)\n",
            "Requirement already satisfied: typing-extensions>=3.7.4.3 in /usr/local/lib/python3.7/dist-packages (from huggingface-hub<1.0,>=0.1.0->transformers) (4.1.1)\n",
            "Requirement already satisfied: pyparsing!=3.0.5,>=2.0.2 in /usr/local/lib/python3.7/dist-packages (from packaging>=20.0->transformers) (3.0.9)\n",
            "Requirement already satisfied: zipp>=0.5 in /usr/local/lib/python3.7/dist-packages (from importlib-metadata->transformers) (3.8.0)\n",
            "Requirement already satisfied: idna<3,>=2.5 in /usr/local/lib/python3.7/dist-packages (from requests->transformers) (2.10)\n",
            "Requirement already satisfied: certifi>=2017.4.17 in /usr/local/lib/python3.7/dist-packages (from requests->transformers) (2022.6.15)\n",
            "Requirement already satisfied: chardet<4,>=3.0.2 in /usr/local/lib/python3.7/dist-packages (from requests->transformers) (3.0.4)\n",
            "Requirement already satisfied: urllib3!=1.25.0,!=1.25.1,<1.26,>=1.21.1 in /usr/local/lib/python3.7/dist-packages (from requests->transformers) (1.24.3)\n"
          ]
        }
      ]
    },
    {
      "cell_type": "code",
      "source": [
        "!pip install konlpy"
      ],
      "metadata": {
        "colab": {
          "base_uri": "https://localhost:8080/"
        },
        "id": "BhFdkbyrwGP-",
        "outputId": "75e0718b-b060-4686-9539-c956f1a4c070"
      },
      "execution_count": 2,
      "outputs": [
        {
          "output_type": "stream",
          "name": "stdout",
          "text": [
            "Looking in indexes: https://pypi.org/simple, https://us-python.pkg.dev/colab-wheels/public/simple/\n",
            "Requirement already satisfied: konlpy in /usr/local/lib/python3.7/dist-packages (0.6.0)\n",
            "Requirement already satisfied: lxml>=4.1.0 in /usr/local/lib/python3.7/dist-packages (from konlpy) (4.2.6)\n",
            "Requirement already satisfied: JPype1>=0.7.0 in /usr/local/lib/python3.7/dist-packages (from konlpy) (1.4.0)\n",
            "Requirement already satisfied: numpy>=1.6 in /usr/local/lib/python3.7/dist-packages (from konlpy) (1.21.6)\n",
            "Requirement already satisfied: typing-extensions in /usr/local/lib/python3.7/dist-packages (from JPype1>=0.7.0->konlpy) (4.1.1)\n"
          ]
        }
      ]
    },
    {
      "cell_type": "code",
      "execution_count": 3,
      "metadata": {
        "id": "p3aiSKdL4G9P"
      },
      "outputs": [],
      "source": [
        "import numpy as np\n",
        "# 데이터를 다루는 가장 기본이 되는 라이브러리\n",
        "import pandas as pd\n",
        "# 데이터를 엑셀의 형태로 보여주는 라이브러리\n",
        "import keras\n",
        "# 생성자를 임포트하기 위한 라이브러리\n",
        "from tensorflow.keras import models, layers, optimizers, callbacks\n",
        "# 케라스는 인공신경망을 쉽게 사용할 수 있게 개발된 라이브러리\n",
        "import seaborn as sns\n",
        "# 시각화 관련 라이브러리\n",
        "import matplotlib.pyplot as plt\n",
        "# 그래프 관련 라이브러리\n",
        "from sklearn.metrics import confusion_matrix, classification_report\n",
        "# 분류 문제 모델 성능 평가에 사용되는 컨퓨전 행렬 함수, 분류모델 성능지표 레포트  \n",
        "from sklearn import preprocessing\n",
        "# scikit-learn의 전처리 라이브러리\n",
        "from tensorflow.keras.utils import to_categorical\n",
        "# 범주형 변수를 one-hot encoding 해주는 함수"
      ]
    },
    {
      "cell_type": "code",
      "execution_count": 4,
      "metadata": {
        "id": "y0I-IDDvXAff"
      },
      "outputs": [],
      "source": [
        "from collections import Counter\n",
        "# 단어의 빈도를 계산하기 위한 라이브러리\n",
        "import transformers\n",
        "from transformers import AutoTokenizer\n",
        "from tensorflow.keras.preprocessing.sequence import pad_sequences\n",
        "# 문장을 인덱스로 변환하기 위한 라이브러리\n",
        "import tensorflow as tf\n",
        "import os\n",
        "# 시스템 제어를 돕는 라이브러리\n",
        "os.environ['CUDA_VISIBLE_DEVICES']='0'\n",
        "# GPU가 여럿 존재하는 환경에서 0번 GPU만을 사용"
      ]
    },
    {
      "cell_type": "code",
      "source": [
        "# 데이터 로드를 위해 구글 드라이브 마운트\n",
        "from google.colab import drive\n",
        "drive.mount('/content/drive')"
      ],
      "metadata": {
        "colab": {
          "base_uri": "https://localhost:8080/"
        },
        "id": "xMXiPGcW8NOv",
        "outputId": "e407e27b-5095-4651-fe2c-cf63880c333c"
      },
      "execution_count": 5,
      "outputs": [
        {
          "output_type": "stream",
          "name": "stdout",
          "text": [
            "Drive already mounted at /content/drive; to attempt to forcibly remount, call drive.mount(\"/content/drive\", force_remount=True).\n"
          ]
        }
      ]
    },
    {
      "cell_type": "markdown",
      "source": [
        "##Data Load & Preprocessing##"
      ],
      "metadata": {
        "id": "hOo2DBejlQOQ"
      }
    },
    {
      "cell_type": "code",
      "source": [
        "# 데이터 로드\n",
        "train_data = pd.read_csv('/content/drive/MyDrive/산업인공지능/박시우/preprocessed_train.CSV',encoding='cp949', index_col=0)\n",
        "test_data = pd.read_csv('/content/drive/MyDrive/산업인공지능/박시우/preprocessed_test.CSV',encoding='cp949', index_col=0)"
      ],
      "metadata": {
        "id": "A4LCMQDetw9P"
      },
      "execution_count": 6,
      "outputs": []
    },
    {
      "cell_type": "code",
      "source": [
        "# 학습 & 테스트 데이터 정의\n",
        "train_x = train_data['문장']\n",
        "test_x = test_data['문장']\n",
        "train_y = train_data['class']\n",
        "test_y = test_data['class']"
      ],
      "metadata": {
        "id": "Zszswj6bu5_h"
      },
      "execution_count": 7,
      "outputs": []
    },
    {
      "cell_type": "code",
      "source": [
        "train_y.value_counts() # -> 클래스 불균형 문제 파악\n",
        "# 압도적으로 1에 해당하는 행의 수가 많음"
      ],
      "metadata": {
        "colab": {
          "base_uri": "https://localhost:8080/"
        },
        "id": "v_FCqFP143vm",
        "outputId": "ba7516ee-8595-4723-e61c-eea718ac61e7"
      },
      "execution_count": 8,
      "outputs": [
        {
          "output_type": "execute_result",
          "data": {
            "text/plain": [
              "1    6625\n",
              "0    3014\n",
              "2    2519\n",
              "Name: class, dtype: int64"
            ]
          },
          "metadata": {},
          "execution_count": 8
        }
      ]
    },
    {
      "cell_type": "code",
      "source": [
        "# 필요 모듈 임포트\n",
        "import imblearn\n",
        "print(imblearn.__version__)\n",
        "from collections import Counter\n",
        "\n",
        "\n",
        "# 필요 함수 정의\n",
        "def count_and_plot(y): \n",
        "    counter = Counter(y)\n",
        "    for k,v in counter.items():\n",
        "        print('Class=%d, n=%d (%.3f%%)' % (k, v, v / len(y) * 100))\n",
        "    plt.bar(counter.keys(), counter.values())\n",
        "    plt.show()"
      ],
      "metadata": {
        "colab": {
          "base_uri": "https://localhost:8080/"
        },
        "id": "8lNrynCn68Qq",
        "outputId": "ddcd003f-68d4-47e9-b7cc-24ccb86faead"
      },
      "execution_count": 9,
      "outputs": [
        {
          "output_type": "stream",
          "name": "stdout",
          "text": [
            "0.8.1\n"
          ]
        }
      ]
    },
    {
      "cell_type": "code",
      "source": [
        "count_and_plot(train_y)\n",
        "# 1에 해당하는 클래스가 제일 많음 -> 클래스 불균형 문제"
      ],
      "metadata": {
        "colab": {
          "base_uri": "https://localhost:8080/",
          "height": 320
        },
        "id": "CpmKIvka7Wg0",
        "outputId": "fffffe92-3cd1-440a-fe10-e999950ee360"
      },
      "execution_count": 10,
      "outputs": [
        {
          "output_type": "stream",
          "name": "stdout",
          "text": [
            "Class=0, n=3014 (24.790%)\n",
            "Class=1, n=6625 (54.491%)\n",
            "Class=2, n=2519 (20.719%)\n"
          ]
        },
        {
          "output_type": "display_data",
          "data": {
            "text/plain": [
              "<Figure size 432x288 with 1 Axes>"
            ],
            "image/png": "[encoded data removed]"
          },
          "metadata": {
            "needs_background": "light"
          }
        }
      ]
    },
    {
      "cell_type": "code",
      "source": [
        "count_and_plot(test_y)"
      ],
      "metadata": {
        "colab": {
          "base_uri": "https://localhost:8080/",
          "height": 320
        },
        "id": "pWKIi2CN7fiD",
        "outputId": "70be4827-967b-4e5b-8107-44babaee3fd1"
      },
      "execution_count": 11,
      "outputs": [
        {
          "output_type": "stream",
          "name": "stdout",
          "text": [
            "Class=1, n=2016 (53.947%)\n",
            "Class=2, n=786 (21.033%)\n",
            "Class=0, n=935 (25.020%)\n"
          ]
        },
        {
          "output_type": "display_data",
          "data": {
            "text/plain": [
              "<Figure size 432x288 with 1 Axes>"
            ],
            "image/png": "[encoded data removed]"
          },
          "metadata": {
            "needs_background": "light"
          }
        }
      ]
    },
    {
      "cell_type": "code",
      "source": [
        "# 데이터 량\n",
        "row_train,  = np.shape(train_x)\n",
        "row_test,  = np.shape(test_x)\n",
        "row_train,  = np.shape(train_y)\n",
        "print('train data: {}, test data: {}, # of classes: {}'.format(row_train, row_test, 3))"
      ],
      "metadata": {
        "colab": {
          "base_uri": "https://localhost:8080/"
        },
        "outputId": "d83327a2-a1f9-4127-8393-772734e887fd",
        "id": "UmjL3wMY8s8_"
      },
      "execution_count": 12,
      "outputs": [
        {
          "output_type": "stream",
          "name": "stdout",
          "text": [
            "train data: 12158, test data: 3737, # of classes: 3\n"
          ]
        }
      ]
    },
    {
      "cell_type": "code",
      "source": [
        "train_x"
      ],
      "metadata": {
        "colab": {
          "base_uri": "https://localhost:8080/"
        },
        "id": "eAwwtuUb3XCG",
        "outputId": "7b316c18-65ec-4288-9ae1-1407d4f78aca"
      },
      "execution_count": 13,
      "outputs": [
        {
          "output_type": "execute_result",
          "data": {
            "text/plain": [
              "0\n",
              "0        일      안      하는      시간      쉬      싶어서      ...\n",
              "1        아동      성범죄      폐      버      기록      바      ...\n",
              "2        루나      솔로      앨범      나왔을      때      메모    ...\n",
              "3        홍      박      어버이연합      보내요      뭐      이런   ...\n",
              "4        놔      왜      여기      댓글      여자      김치      ...\n",
              "                               ...                        \n",
              "12153    똥      고충      에이즈      전파      범      므      ...\n",
              "12154    문재인      찍고      토착      왜구      물러나라      하게 ...\n",
              "12155    굳           세워라      갓      건배      모든      남 ...\n",
              "12156    국제      결혼      한몫      봄      똥      남아      ...\n",
              "12157                                                와꾸한남콘\n",
              "Name: 문장, Length: 12158, dtype: object"
            ]
          },
          "metadata": {},
          "execution_count": 13
        }
      ]
    },
    {
      "cell_type": "code",
      "source": [
        "test_x"
      ],
      "metadata": {
        "colab": {
          "base_uri": "https://localhost:8080/"
        },
        "id": "O85sqlsj3gpf",
        "outputId": "274a6cca-2291-4c38-d50d-ff36c1bc2c78"
      },
      "execution_count": 14,
      "outputs": [
        {
          "output_type": "execute_result",
          "data": {
            "text/plain": [
              "0       진짜      죽어도      상관없다는           마인드      싸웠더니...\n",
              "1       여자      취미      애      낳는      건      가      취...\n",
              "2       개슬람녀      필요      없고           네      엄마      ...\n",
              "3       조팔      남한      길거리      돌아다니면      한국      남자...\n",
              "4       바지      리다      한남      와      꾸      보고      ...\n",
              "                              ...                        \n",
              "3732    저      시대      언어      면      한      남충      시...\n",
              "3733    다른      것      눈      어떻게           생기      노 ...\n",
              "3734    막노동      해도      한국      살      말      미쳤다고   ...\n",
              "3735    사형      구형      하였으나      여성      점      감안   ...\n",
              "3736    참      군      남      노      남자      용도      고기...\n",
              "Name: 문장, Length: 3737, dtype: object"
            ]
          },
          "metadata": {},
          "execution_count": 14
        }
      ]
    },
    {
      "cell_type": "code",
      "source": [
        "# 불용어(숫자, 특수문자) 제거로 nan이 된 데이터에 의미없는 문자 할당 \n",
        "for i in range(row_train):\n",
        "  if type(train_x[i]) is float:\n",
        "    train_x[i] = '름'\n",
        "for i in range(row_test):\n",
        "  if type(test_x[i]) is float:\n",
        "    test_x[i] = '름'"
      ],
      "metadata": {
        "id": "ecB7FmpqHOnb",
        "colab": {
          "base_uri": "https://localhost:8080/"
        },
        "outputId": "d9712940-582a-4aab-b338-de2299d8c399"
      },
      "execution_count": 15,
      "outputs": [
        {
          "output_type": "stream",
          "name": "stderr",
          "text": [
            "/usr/local/lib/python3.7/dist-packages/ipykernel_launcher.py:4: SettingWithCopyWarning: \n",
            "A value is trying to be set on a copy of a slice from a DataFrame\n",
            "\n",
            "See the caveats in the documentation: https://pandas.pydata.org/pandas-docs/stable/user_guide/indexing.html#returning-a-view-versus-a-copy\n",
            "  after removing the cwd from sys.path.\n",
            "/usr/local/lib/python3.7/dist-packages/ipykernel_launcher.py:7: SettingWithCopyWarning: \n",
            "A value is trying to be set on a copy of a slice from a DataFrame\n",
            "\n",
            "See the caveats in the documentation: https://pandas.pydata.org/pandas-docs/stable/user_guide/indexing.html#returning-a-view-versus-a-copy\n",
            "  import sys\n"
          ]
        }
      ]
    },
    {
      "cell_type": "code",
      "source": [
        "# 다중 공백 제거 -> 단일 공백\n",
        "for i in range(row_train):\n",
        "  train_x[i] = ' '.join(train_x[i].split())\n",
        "for i in range(row_test):\n",
        "  test_x[i] = ' '.join(test_x[i].split())"
      ],
      "metadata": {
        "id": "D7srHRfr5DH1",
        "colab": {
          "base_uri": "https://localhost:8080/"
        },
        "outputId": "b43b2129-1b9f-4d57-97db-6fad77bf3433"
      },
      "execution_count": 16,
      "outputs": [
        {
          "output_type": "stream",
          "name": "stderr",
          "text": [
            "/usr/local/lib/python3.7/dist-packages/ipykernel_launcher.py:3: SettingWithCopyWarning: \n",
            "A value is trying to be set on a copy of a slice from a DataFrame\n",
            "\n",
            "See the caveats in the documentation: https://pandas.pydata.org/pandas-docs/stable/user_guide/indexing.html#returning-a-view-versus-a-copy\n",
            "  This is separate from the ipykernel package so we can avoid doing imports until\n",
            "/usr/local/lib/python3.7/dist-packages/ipykernel_launcher.py:5: SettingWithCopyWarning: \n",
            "A value is trying to be set on a copy of a slice from a DataFrame\n",
            "\n",
            "See the caveats in the documentation: https://pandas.pydata.org/pandas-docs/stable/user_guide/indexing.html#returning-a-view-versus-a-copy\n",
            "  \"\"\"\n"
          ]
        }
      ]
    },
    {
      "cell_type": "code",
      "source": [
        "# 불용어 제거를 위해 리스트로 변환\n",
        "for i in range(row_train):\n",
        "  train_x[i] = train_x[i].split(' ')\n",
        "for i in range(row_test):\n",
        "  test_x[i] = test_x[i].split(' ')"
      ],
      "metadata": {
        "id": "9oyS7KLV3xSI",
        "colab": {
          "base_uri": "https://localhost:8080/"
        },
        "outputId": "11321f57-6a58-40e5-cd00-018fe2a73656"
      },
      "execution_count": 17,
      "outputs": [
        {
          "output_type": "stream",
          "name": "stderr",
          "text": [
            "/usr/local/lib/python3.7/dist-packages/ipykernel_launcher.py:3: SettingWithCopyWarning: \n",
            "A value is trying to be set on a copy of a slice from a DataFrame\n",
            "\n",
            "See the caveats in the documentation: https://pandas.pydata.org/pandas-docs/stable/user_guide/indexing.html#returning-a-view-versus-a-copy\n",
            "  This is separate from the ipykernel package so we can avoid doing imports until\n",
            "/usr/local/lib/python3.7/dist-packages/ipykernel_launcher.py:5: SettingWithCopyWarning: \n",
            "A value is trying to be set on a copy of a slice from a DataFrame\n",
            "\n",
            "See the caveats in the documentation: https://pandas.pydata.org/pandas-docs/stable/user_guide/indexing.html#returning-a-view-versus-a-copy\n",
            "  \"\"\"\n"
          ]
        }
      ]
    },
    {
      "cell_type": "code",
      "source": [
        "test_x[3734]"
      ],
      "metadata": {
        "colab": {
          "base_uri": "https://localhost:8080/"
        },
        "id": "ktk8L4Lq48oH",
        "outputId": "674396b5-bb75-41ac-ac89-bf11bfa0d89b"
      },
      "execution_count": 18,
      "outputs": [
        {
          "output_type": "execute_result",
          "data": {
            "text/plain": [
              "['막노동', '해도', '한국', '살', '말', '미쳤다고', '남미', '가냐', '차', '라리', '자살', '하겠다']"
            ]
          },
          "metadata": {},
          "execution_count": 18
        }
      ]
    },
    {
      "cell_type": "code",
      "source": [
        "# 개발자 지정 불용어 삭제\n",
        "stop_words = \"진짜 지금 아니나 그냥 자기 그런가 어떻 어떻게 저렇 저렇게 아닌가 한다고 거지 무슨 씨 보면 대 만 거 안 임 등 장 너 아니냐 함 네 저런 애 이 게 때 일 글 기 지 더 노 나 이런 후 해야 하나 우리 난 또 만 와 해 좀 하는 그런 안 그 더 된 고 하지 하고 해서 면 뭐 건 가 있다 된거 합니다 등 했더니 익 관련 이미 수 있으면 된다 하는데 하면 왜 여기 먼저 하니까 보네 다시 있을 거임 걸 저런 딱히 대해 어디 아니 솔직히 이제 해봐야 하자 하노 있을까 그럼 역시 되나 하니 되어 갔는데 하러 근처 곧 같아서 않냐 해주고 언제 싶다 완전 하여 나도 무슨 하자고 된다는 있는 더욱 해봤자 어차피 라서 한다 된다 해주는 하기 있으면 해줘도 반드시 이지 다는 대해 \"\n",
        "stop_words = stop_words.split(' ')\n",
        "for i in range(row_test):\n",
        "  for w in test_x[i]:\n",
        "    if w in stop_words:\n",
        "      test_x[i].remove(w)\n",
        "for i in range(row_train):\n",
        "  for w in train_x[i]:\n",
        "    if w in stop_words:\n",
        "      train_x[i].remove(w)"
      ],
      "metadata": {
        "id": "Vj5d_b1MhZy1"
      },
      "execution_count": 19,
      "outputs": []
    },
    {
      "cell_type": "code",
      "source": [
        "test_x[3734]"
      ],
      "metadata": {
        "colab": {
          "base_uri": "https://localhost:8080/"
        },
        "id": "z-bsNjwN4e-u",
        "outputId": "86141967-4079-4eb4-8463-b6a9ce1a78fc"
      },
      "execution_count": 20,
      "outputs": [
        {
          "output_type": "execute_result",
          "data": {
            "text/plain": [
              "['막노동', '해도', '한국', '살', '말', '미쳤다고', '남미', '가냐', '차', '라리', '자살', '하겠다']"
            ]
          },
          "metadata": {},
          "execution_count": 20
        }
      ]
    },
    {
      "cell_type": "code",
      "source": [
        "test_x = test_x.astype('string')\n",
        "train_x = train_x.astype('string')"
      ],
      "metadata": {
        "id": "X9Cj2h05-OyS"
      },
      "execution_count": 21,
      "outputs": []
    },
    {
      "cell_type": "code",
      "source": [
        "# 리스트를 문자로 바꿔 생긴 특수기호([,']) 삭제\n",
        "punct = \"/-'?!.,#$%\\'()*+-/:;<=>@[\\\\]^_`{|}~[]\" + '\"\"“”’' + '∞θ÷α•à−β∅³π‘₹´°£€\\×™√²—–&'\n",
        "punct_mapping = {\"‘\": \"'\", \"₹\": \"e\", \"´\": \"'\", \"°\": \"\", \"€\": \"e\", \"™\": \"tm\", \"√\": \" sqrt \", \"×\": \"x\", \"²\": \"2\", \"—\": \"-\", \"–\": \"-\", \"’\": \"'\", \"_\": \"-\", \"`\": \"'\", '“': '\"', '”': '\"', '“': '\"', \"£\": \"e\", '∞': 'infinity', 'θ': 'theta', '÷': '/', 'α': 'alpha', '•': '.', 'à': 'a', '−': '-', 'β': 'beta', '∅': '', '³': '3', 'π': 'pi', }\n",
        "\n",
        "def clean_punc(text, punct, mapping):\n",
        "    for p in mapping:\n",
        "        text = text.replace(p, \"\")\n",
        "    \n",
        "    for p in punct:\n",
        "        text = text.replace(p, '')\n",
        "    \n",
        "    specials = {'\\u200b': ' ', '…': ' ... ', '\\ufeff': '', 'करना': '', 'है': ''}\n",
        "    for s in specials:\n",
        "        text = text.replace(s, '')\n",
        "    \n",
        "    return text.strip()\n",
        "#test data 문장\n",
        "for i in range(row_test):\n",
        "  test_x[i] = clean_punc(str(test_x[i]), punct, punct_mapping)\n",
        "#test data 문장\n",
        "for i in range(row_train):\n",
        "  train_x[i] = clean_punc(str(train_x[i]), punct, punct_mapping)"
      ],
      "metadata": {
        "id": "_wJcqset-vxl"
      },
      "execution_count": 22,
      "outputs": []
    },
    {
      "cell_type": "code",
      "source": [
        "# 불용어 제거로 인해 nan이 된 데이터에 의미없는 문자 할당\n",
        "for i in range(row_test):\n",
        "  if type(test_x[i]) is float:\n",
        "    test_x[i]='름'\n",
        "for i in range(row_train):\n",
        "  if type(train_x[i]) is float:\n",
        "    train_x[i] = '름'"
      ],
      "metadata": {
        "id": "bAeHgm-P-8rd"
      },
      "execution_count": 23,
      "outputs": []
    },
    {
      "cell_type": "code",
      "source": [
        "test_x"
      ],
      "metadata": {
        "colab": {
          "base_uri": "https://localhost:8080/"
        },
        "id": "Cvlm5gme_BdO",
        "outputId": "ebbedded-bb44-41f7-a158-3c5a4487f2c8"
      },
      "execution_count": 24,
      "outputs": [
        {
          "output_type": "execute_result",
          "data": {
            "text/plain": [
              "0       죽어도 상관없다는 마인드 싸웠더니 서 열 상 타 취노 식칼 네 안 찌르면 내 찌른 ...\n",
              "1                                       여자 취미 낳는 가 취미 가져라\n",
              "2                                        개슬람녀 필요 없고 엄마 된다\n",
              "3             조팔 남한 길거리 돌아다니면 한국 남자 때문 눈 재기 내 폰 굳이 담아야 조팔\n",
              "4                                      바지 리다 한남 꾸 보고 올려 뿟\n",
              "                              ...                        \n",
              "3732                                   저 시대 언어 한 남충 시대 언어\n",
              "3733                                         다른 것 눈 생기 탄식\n",
              "3734                 막노동 해도 한국 살 말 미쳤다고 남미 가냐 차 라리 자살 하겠다\n",
              "3735    사형 구형 하였으나 여성 점 감안 년 선고 내 잘못 본 건가 개시 발 보지 민국 보...\n",
              "3736                                    참 군 남 남자 용도 고기 방패\n",
              "Name: 문장, Length: 3737, dtype: string"
            ]
          },
          "metadata": {},
          "execution_count": 24
        }
      ]
    },
    {
      "cell_type": "code",
      "source": [
        "train_x"
      ],
      "metadata": {
        "colab": {
          "base_uri": "https://localhost:8080/"
        },
        "id": "G4E7_X7Obj9Q",
        "outputId": "f114649e-acb7-4d39-e0e9-f76ebe49c07e"
      },
      "execution_count": 25,
      "outputs": [
        {
          "output_type": "execute_result",
          "data": {
            "text/plain": [
              "0\n",
              "0                                         안 시간 쉬 싶어서 게 아닐까\n",
              "1           아동 성범죄 폐 버 기록 바 끊어져 영원히 고통 받는 무슬림 친 떨어지고 출산 위험\n",
              "2                     루나 솔로 앨범 나왔을 메모 기운 있었음 영 띵곡 꼭 들어 보세요\n",
              "3             홍 박 어버이연합 보내요 이런 댓글 있는데 어버이연합 측 신고 쪽 고소 가능하냐\n",
              "4        놔 여기 댓글 여자 김치 녀 불렸다 여자 심하게 개 싸우냐 내 볼 땐 둘 나쁜 말 ...\n",
              "                               ...                        \n",
              "12153       똥 고충 에이즈 전파 범 므 질병 관리 예방 차원 연쇄 살인마 준 형벌 가해야 본다\n",
              "12154                             문재인 찍고 토착 왜구 물러나라 하게 보 데\n",
              "12155                           굳 세워라 갓 건배 모든 남 유 튜브 묻다 응원\n",
              "12156                             국제 결혼 한몫 봄 똥 남아 여자 결혼 하는\n",
              "12157                                                와꾸한남콘\n",
              "Name: 문장, Length: 12158, dtype: string"
            ]
          },
          "metadata": {},
          "execution_count": 25
        }
      ]
    },
    {
      "cell_type": "code",
      "source": [
        "# 단어를 숫자 정보로 변경하기 위한 Tokenizing\n",
        "from tensorflow.keras.preprocessing.text import Tokenizer\n",
        "tokenizer = Tokenizer()\n",
        "tokenizer.fit_on_texts(train_x)\n",
        "tokenizer.word_counts\n",
        "# 조사랑 접속사가 제거되지 않았고 유사한 의미의 단어가 파악되지 않는 문제 존재 -> 전처리 필요성"
      ],
      "metadata": {
        "colab": {
          "base_uri": "https://localhost:8080/"
        },
        "id": "_iK_4yK8sN1t",
        "outputId": "71186ea5-ef2e-418c-f49a-f443146f74d1"
      },
      "execution_count": 26,
      "outputs": [
        {
          "output_type": "execute_result",
          "data": {
            "text/plain": [
              "OrderedDict([('안', 123),\n",
              "             ('시간', 55),\n",
              "             ('쉬', 7),\n",
              "             ('싶어서', 17),\n",
              "             ('게', 178),\n",
              "             ('아닐까', 16),\n",
              "             ('아동', 14),\n",
              "             ('성범죄', 21),\n",
              "             ('폐', 35),\n",
              "             ('버', 22),\n",
              "             ('기록', 4),\n",
              "             ('바', 40),\n",
              "             ('끊어져', 1),\n",
              "             ('영원히', 8),\n",
              "             ('고통', 19),\n",
              "             ('받는', 54),\n",
              "             ('무슬림', 142),\n",
              "             ('친', 55),\n",
              "             ('떨어지고', 3),\n",
              "             ('출산', 20),\n",
              "             ('위험', 6),\n",
              "             ('루나', 1),\n",
              "             ('솔로', 1),\n",
              "             ('앨범', 1),\n",
              "             ('나왔을', 3),\n",
              "             ('메모', 3),\n",
              "             ('기운', 4),\n",
              "             ('있었음', 5),\n",
              "             ('영', 58),\n",
              "             ('띵곡', 1),\n",
              "             ('꼭', 72),\n",
              "             ('들어', 33),\n",
              "             ('보세요', 3),\n",
              "             ('홍', 22),\n",
              "             ('박', 32),\n",
              "             ('어버이연합', 2),\n",
              "             ('보내요', 1),\n",
              "             ('이런', 30),\n",
              "             ('댓글', 101),\n",
              "             ('있는데', 95),\n",
              "             ('측', 4),\n",
              "             ('신고', 44),\n",
              "             ('쪽', 70),\n",
              "             ('고소', 23),\n",
              "             ('가능하냐', 6),\n",
              "             ('놔', 3),\n",
              "             ('여기', 14),\n",
              "             ('여자', 644),\n",
              "             ('김치', 170),\n",
              "             ('녀', 148),\n",
              "             ('불렸다', 1),\n",
              "             ('심하게', 2),\n",
              "             ('개', 596),\n",
              "             ('싸우냐', 1),\n",
              "             ('내', 405),\n",
              "             ('볼', 63),\n",
              "             ('땐', 27),\n",
              "             ('둘', 74),\n",
              "             ('나쁜', 25),\n",
              "             ('말', 621),\n",
              "             ('이상', 66),\n",
              "             ('하도', 19),\n",
              "             ('아닌데', 35),\n",
              "             ('고향', 19),\n",
              "             ('가서', 82),\n",
              "             ('피시방', 8),\n",
              "             ('가면', 62),\n",
              "             ('동네', 42),\n",
              "             ('부러', 8),\n",
              "             ('친구', 48),\n",
              "             ('거르', 17),\n",
              "             ('이야기', 36),\n",
              "             ('막', 41),\n",
              "             ('하게', 78),\n",
              "             ('되더라', 4),\n",
              "             ('당연히', 38),\n",
              "             ('키', 88),\n",
              "             ('보드', 7),\n",
              "             ('치거나', 1),\n",
              "             ('그러지는', 1),\n",
              "             ('않는데', 3),\n",
              "             ('거칠어지긴', 1),\n",
              "             ('반성', 16),\n",
              "             ('해야겠네', 2),\n",
              "             ('예수', 84),\n",
              "             ('십', 13),\n",
              "             ('새끼', 1509),\n",
              "             ('개새끼', 66),\n",
              "             ('창녀', 22),\n",
              "             ('아들', 44),\n",
              "             ('아비', 62),\n",
              "             ('실종', 2),\n",
              "             ('가정', 17),\n",
              "             ('교육', 54),\n",
              "             ('못', 391),\n",
              "             ('받은', 24),\n",
              "             ('무뇌충', 3),\n",
              "             ('허', 26),\n",
              "             ('증', 11),\n",
              "             ('정신병', 155),\n",
              "             ('사기꾼', 19),\n",
              "             ('망상', 20),\n",
              "             ('근본', 16),\n",
              "             ('없는', 184),\n",
              "             ('병신', 309),\n",
              "             ('장애인', 27),\n",
              "             ('짱', 148),\n",
              "             ('흑인', 36),\n",
              "             ('이슬람', 188),\n",
              "             ('전라도', 338),\n",
              "             ('급', 60),\n",
              "             ('나이', 59),\n",
              "             ('처', 167),\n",
              "             ('먹고', 80),\n",
              "             ('가는', 60),\n",
              "             ('놈', 429),\n",
              "             ('대가리', 34),\n",
              "             ('똥', 269),\n",
              "             ('만찬', 2),\n",
              "             ('들임', 49),\n",
              "             ('청', 25),\n",
              "             ('같은', 383),\n",
              "             ('소리', 183),\n",
              "             ('하네', 98),\n",
              "             ('우리나라', 123),\n",
              "             ('계', 4),\n",
              "             ('집', 118),\n",
              "             ('다', 9),\n",
              "             ('무적', 7),\n",
              "             ('군대', 98),\n",
              "             ('보내면', 6),\n",
              "             ('해결', 36),\n",
              "             ('될', 120),\n",
              "             ('정신', 152),\n",
              "             ('개조', 13),\n",
              "             ('시켜야지', 6),\n",
              "             ('할', 525),\n",
              "             ('꺼', 13),\n",
              "             ('낳고', 9),\n",
              "             ('무슨', 26),\n",
              "             ('자식', 37),\n",
              "             ('하냐', 85),\n",
              "             ('재능', 2),\n",
              "             ('나도', 12),\n",
              "             ('합성', 11),\n",
              "             ('배', 60),\n",
              "             ('우', 3),\n",
              "             ('싶다기', 1),\n",
              "             ('가짜', 13),\n",
              "             ('남자', 479),\n",
              "             ('생겼냐', 3),\n",
              "             ('뺨치', 1),\n",
              "             ('어린이집', 2),\n",
              "             ('월요일', 3),\n",
              "             ('데려다주고', 1),\n",
              "             ('금요일', 3),\n",
              "             ('데리', 23),\n",
              "             ('왔단', 1),\n",
              "             ('가슴', 20),\n",
              "             ('아프다고', 3),\n",
              "             ('작', 21),\n",
              "             ('살', 210),\n",
              "             ('아가', 8),\n",
              "             ('얼마나', 86),\n",
              "             ('외로웠을까', 1),\n",
              "             ('갓슬람', 3),\n",
              "             ('정희', 1),\n",
              "             ('구현', 6),\n",
              "             ('테러', 56),\n",
              "             ('미제', 1),\n",
              "             ('양키', 16),\n",
              "             ('답', 133),\n",
              "             ('좆', 685),\n",
              "             ('발', 453),\n",
              "             ('따고', 2),\n",
              "             ('넘어갔나', 1),\n",
              "             ('원', 72),\n",
              "             ('리더십', 4),\n",
              "             ('메시지', 2),\n",
              "             ('내부', 7),\n",
              "             ('결속', 2),\n",
              "             ('강화하고', 1),\n",
              "             ('외부', 8),\n",
              "             ('리마', 2),\n",
              "             ('커블', 1),\n",
              "             ('한', 695),\n",
              "             ('이미지', 21),\n",
              "             ('구축', 4),\n",
              "             ('다시', 12),\n",
              "             ('교회', 196),\n",
              "             ('모일', 3),\n",
              "             ('있기를', 1),\n",
              "             ('소망', 6),\n",
              "             ('니', 25),\n",
              "             ('협박', 10),\n",
              "             ('스킬', 4),\n",
              "             ('패스', 8),\n",
              "             ('브', 2),\n",
              "             ('위로', 8),\n",
              "             ('격려', 2),\n",
              "             ('호텔', 2),\n",
              "             ('왜', 78),\n",
              "             ('저', 524),\n",
              "             ('여자도', 16),\n",
              "             ('정상', 83),\n",
              "             ('아니구먼', 1),\n",
              "             ('지네', 12),\n",
              "             ('할아버지', 4),\n",
              "             ('많을', 10),\n",
              "             ('듯', 294),\n",
              "             ('데', 298),\n",
              "             ('구토', 10),\n",
              "             ('나올', 28),\n",
              "             ('같은데', 75),\n",
              "             ('미쳤구먼', 1),\n",
              "             ('더러운', 41),\n",
              "             ('짓은', 4),\n",
              "             ('설교', 8),\n",
              "             ('하는', 83),\n",
              "             ('웩', 3),\n",
              "             ('메틸알코올', 2),\n",
              "             ('쓰고', 44),\n",
              "             ('질문', 15),\n",
              "             ('프로', 25),\n",
              "             ('에틸', 1),\n",
              "             ('띄울', 1),\n",
              "             ('사람', 551),\n",
              "             ('없긴', 1),\n",
              "             ('없나', 13),\n",
              "             ('보다', 38),\n",
              "             ('한국', 375),\n",
              "             ('패', 72),\n",
              "             ('유정', 1),\n",
              "             ('수준', 122),\n",
              "             ('절절', 5),\n",
              "             ('팩트', 49),\n",
              "             ('쇼', 30),\n",
              "             ('빼고', 12),\n",
              "             ('것', 783),\n",
              "             ('개돼지', 25),\n",
              "             ('정권', 33),\n",
              "             ('탄핵', 7),\n",
              "             ('개힘', 1),\n",
              "             ('아주', 71),\n",
              "             ('싫다', 44),\n",
              "             ('싫어', 13),\n",
              "             ('외국', 58),\n",
              "             ('년', 507),\n",
              "             ('욕질', 2),\n",
              "             ('해대', 6),\n",
              "             ('아니다', 63),\n",
              "             ('그냥', 55),\n",
              "             ('종교', 150),\n",
              "             ('중', 219),\n",
              "             ('죽었으면', 3),\n",
              "             ('좋겠어', 1),\n",
              "             ('홍어', 222),\n",
              "             ('무침', 1),\n",
              "             ('안티', 4),\n",
              "             ('페미', 306),\n",
              "             ('운운하기', 1),\n",
              "             ('전', 202),\n",
              "             ('설치는', 6),\n",
              "             ('작자', 4),\n",
              "             ('설치', 17),\n",
              "             ('다니는', 47),\n",
              "             ('지나', 8),\n",
              "             ('직시', 2),\n",
              "             ('해보는', 1),\n",
              "             ('우선', 17),\n",
              "             ('기업', 35),\n",
              "             ('여', 127),\n",
              "             ('돈', 272),\n",
              "             ('갖다', 18),\n",
              "             ('받치는', 1),\n",
              "             ('어이없는', 3),\n",
              "             ('문제', 193),\n",
              "             ('혼', 14),\n",
              "             ('피', 61),\n",
              "             ('폭', 10),\n",
              "             ('희', 6),\n",
              "             ('정민아', 1),\n",
              "             ('큰일', 9),\n",
              "             ('났노', 6),\n",
              "             ('쓴', 69),\n",
              "             ('자', 219),\n",
              "             ('뎅', 7),\n",
              "             ('재기', 147),\n",
              "             ('위장', 11),\n",
              "             ('죽', 76),\n",
              "             ('일방', 5),\n",
              "             ('법', 110),\n",
              "             ('보내놨으니', 1),\n",
              "             ('봐라', 75),\n",
              "             ('이기', 425),\n",
              "             ('진', 31),\n",
              "             ('반', 48),\n",
              "             ('다녀', 6),\n",
              "             ('봤는데', 17),\n",
              "             ('교인', 14),\n",
              "             ('보이는', 18),\n",
              "             ('집중', 8),\n",
              "             ('속세', 1),\n",
              "             ('가식', 2),\n",
              "             ('적임', 5),\n",
              "             ('굉장히', 4),\n",
              "             ('이분법', 2),\n",
              "             ('사고', 23),\n",
              "             ('갖고', 21),\n",
              "             ('있어서', 34),\n",
              "             ('아마', 11),\n",
              "             ('상황', 33),\n",
              "             ('예배', 31),\n",
              "             ('드린다는', 1),\n",
              "             ('순위', 10),\n",
              "             ('지켰다고', 1),\n",
              "             ('자뻑', 1),\n",
              "             ('거임', 27),\n",
              "             ('개뿔', 8),\n",
              "             ('하나님', 49),\n",
              "             ('기적', 24),\n",
              "             ('천박한', 3),\n",
              "             ('신앙', 9),\n",
              "             ('치', 33),\n",
              "             ('않으실', 1),\n",
              "             ('개독', 161),\n",
              "             ('사망', 7),\n",
              "             ('이후', 10),\n",
              "             ('조사', 13),\n",
              "             ('받기', 2),\n",
              "             ('분', 94),\n",
              "             ('통화', 3),\n",
              "             ('역', 15),\n",
              "             ('확인', 16),\n",
              "             ('필요', 51),\n",
              "             ('뜬구름', 1),\n",
              "             ('잡는', 19),\n",
              "             ('있네', 52),\n",
              "             ('도대체', 40),\n",
              "             ('무고', 11),\n",
              "             ('목숨', 17),\n",
              "             ('죽는가', 1),\n",
              "             ('존', 469),\n",
              "             ('질병', 20),\n",
              "             ('보지', 243),\n",
              "             ('저런', 41),\n",
              "             ('대해', 6),\n",
              "             ('자존심', 11),\n",
              "             ('느끼지', 3),\n",
              "             ('않나', 26),\n",
              "             ('오', 56),\n",
              "             ('라비', 3),\n",
              "             ('페미니스트', 46),\n",
              "             ('아닙니다만', 1),\n",
              "             ('뉴스', 29),\n",
              "             ('보', 106),\n",
              "             ('길이', 8),\n",
              "             ('낯설지', 1),\n",
              "             ('않더라', 3),\n",
              "             ('동성애', 225),\n",
              "             ('저주', 3),\n",
              "             ('먹이', 12),\n",
              "             ('돈가스', 4),\n",
              "             ('달라', 42),\n",
              "             ('뭐', 61),\n",
              "             ('애', 65),\n",
              "             ('먹는', 50),\n",
              "             ('하늘', 14),\n",
              "             ('뚝', 4),\n",
              "             ('떨어지냐', 1),\n",
              "             ('양심', 20),\n",
              "             ('없노', 62),\n",
              "             ('맞노', 40),\n",
              "             ('멘트', 1),\n",
              "             ('타격', 6),\n",
              "             ('느끼는', 12),\n",
              "             ('개념', 37),\n",
              "             ('뿐', 64),\n",
              "             ('냄', 114),\n",
              "             ('져', 61),\n",
              "             ('들', 292),\n",
              "             ('싸움', 21),\n",
              "             ('더하다', 1),\n",
              "             ('마포', 6),\n",
              "             ('뭘', 77),\n",
              "             ('뜻', 26),\n",
              "             ('거', 391),\n",
              "             ('피는', 4),\n",
              "             ('물', 92),\n",
              "             ('진하다', 1),\n",
              "             ('카스', 1),\n",
              "             ('머', 89),\n",
              "             ('상', 48),\n",
              "             ('부패한', 1),\n",
              "             ('수', 17),\n",
              "             ('정당방위', 2),\n",
              "             ('어떻게', 16),\n",
              "             ('쳐서', 12),\n",
              "             ('만들지', 13),\n",
              "             ('시뮬레이션', 2),\n",
              "             ('해보노', 1),\n",
              "             ('섹스', 64),\n",
              "             ('스쌕스', 1),\n",
              "             ('무섭네', 3),\n",
              "             ('타기', 7),\n",
              "             ('마라', 117),\n",
              "             ('애초', 49),\n",
              "             ('까이는', 3),\n",
              "             ('진화론', 2),\n",
              "             ('글', 54),\n",
              "             ('올라왔는데', 1),\n",
              "             ('창조설', 2),\n",
              "             ('가져와서', 2),\n",
              "             ('빼', 27),\n",
              "             ('액', 4),\n",
              "             ('시작', 49),\n",
              "             ('난리', 27),\n",
              "             ('남', 308),\n",
              "             ('거식증', 1),\n",
              "             ('때문', 168),\n",
              "             ('우노', 3),\n",
              "             ('자댕', 5),\n",
              "             ('이의', 3),\n",
              "             ('존재', 56),\n",
              "             ('의미', 17),\n",
              "             ('달리', 3),\n",
              "             ('참', 102),\n",
              "             ('자의식', 2),\n",
              "             ('과잉', 4),\n",
              "             ('오진', 1),\n",
              "             ('조국', 34),\n",
              "             ('수사', 16),\n",
              "             ('막바지', 2),\n",
              "             ('기껏', 3),\n",
              "             ('와이프', 3),\n",
              "             ('표장', 1),\n",
              "             ('관련', 3),\n",
              "             ('의혹', 3),\n",
              "             ('전부', 56),\n",
              "             ('국민', 127),\n",
              "             ('위', 92),\n",
              "             ('검찰', 12),\n",
              "             ('개혁', 10),\n",
              "             ('폄하하는', 2),\n",
              "             ('당', 55),\n",
              "             ('용납', 2),\n",
              "             ('청산', 7),\n",
              "             ('나라', 334),\n",
              "             ('발짝', 1),\n",
              "             ('앞', 77),\n",
              "             ('갈', 61),\n",
              "             ('적', 77),\n",
              "             ('페달', 1),\n",
              "             ('끌려', 4),\n",
              "             ('약한', 5),\n",
              "             ('민주당', 37),\n",
              "             ('심판', 9),\n",
              "             ('소고기', 3),\n",
              "             ('짬뽕', 4),\n",
              "             ('먹어', 21),\n",
              "             ('보고', 175),\n",
              "             ('나', 55),\n",
              "             ('한경', 1),\n",
              "             ('제보', 3),\n",
              "             ('대구', 74),\n",
              "             ('까이겠지', 1),\n",
              "             ('민아', 1),\n",
              "             ('귀엽네', 2),\n",
              "             ('벌어서', 5),\n",
              "             ('좋고', 6),\n",
              "             ('고추', 55),\n",
              "             ('서로', 56),\n",
              "             ('윈윈', 1),\n",
              "             ('불법', 25),\n",
              "             ('로', 22),\n",
              "             ('봉순', 2),\n",
              "             ('젠', 90),\n",
              "             ('신병', 9),\n",
              "             ('맘껏', 1),\n",
              "             ('아님', 88),\n",
              "             ('깽컥', 1),\n",
              "             ('공산당', 9),\n",
              "             ('한남', 349),\n",
              "             ('동무', 2),\n",
              "             ('심심하냐', 1),\n",
              "             ('인의', 2),\n",
              "             ('수습', 2),\n",
              "             ('위원회', 1),\n",
              "             ('일제시대', 4),\n",
              "             ('신사', 4),\n",
              "             ('참배', 1),\n",
              "             ('행위', 12),\n",
              "             ('아니라', 173),\n",
              "             ('국민의례', 1),\n",
              "             ('하면서', 98),\n",
              "             ('신사참배', 1),\n",
              "             ('합헌', 2),\n",
              "             ('꼴', 82),\n",
              "             ('이름', 52),\n",
              "             ('역사', 30),\n",
              "             ('수치', 10),\n",
              "             ('되리라', 1),\n",
              "             ('유민', 1),\n",
              "             ('누구', 47),\n",
              "             ('개그맨', 1),\n",
              "             ('닮지', 1),\n",
              "             ('않았음', 2),\n",
              "             ('이상준', 1),\n",
              "             ('황비홍', 1),\n",
              "             ('대냐', 4),\n",
              "             ('똥고', 2),\n",
              "             ('들어갔던', 1),\n",
              "             ('꼬치', 6),\n",
              "             ('싶은', 43),\n",
              "             ('없어서', 31),\n",
              "             ('그렇지', 25),\n",
              "             ('않겠노', 7),\n",
              "             ('민국', 24),\n",
              "             ('믿겠노', 1),\n",
              "             ('믿고', 32),\n",
              "             ('그러지', 8),\n",
              "             ('막내', 1),\n",
              "             ('예뻤으면', 2),\n",
              "             ('일', 50),\n",
              "             ('없다', 130),\n",
              "             ('예쁜', 8),\n",
              "             ('저런데', 6),\n",
              "             ('눈', 88),\n",
              "             ('팔릴', 1),\n",
              "             ('틈', 4),\n",
              "             ('없음', 75),\n",
              "             ('그림', 9),\n",
              "             ('체', 14),\n",
              "             ('귀엽긴', 1),\n",
              "             ('현실', 66),\n",
              "             ('않아', 11),\n",
              "             ('출발', 4),\n",
              "             ('설명', 14),\n",
              "             ('모른다', 8),\n",
              "             ('유모차', 3),\n",
              "             ('부대', 7),\n",
              "             ('좋으면', 10),\n",
              "             ('따라가야', 1),\n",
              "             ('제', 123),\n",
              "             ('엔도', 2),\n",
              "             ('스타일', 11),\n",
              "             ('항상', 30),\n",
              "             ('패배', 4),\n",
              "             ('감', 60),\n",
              "             ('절', 24),\n",
              "             ('그렇다', 12),\n",
              "             ('보니', 83),\n",
              "             ('상대', 20),\n",
              "             ('귀찮아서', 3),\n",
              "             ('피하', 8),\n",
              "             ('잘나서', 1),\n",
              "             ('이긴', 9),\n",
              "             ('줄', 209),\n",
              "             ('알', 176),\n",
              "             ('되는', 236),\n",
              "             ('승리감', 1),\n",
              "             ('도', 152),\n",
              "             ('취감', 1),\n",
              "             ('빠진', 10),\n",
              "             ('기준', 13),\n",
              "             ('더러워서', 3),\n",
              "             ('지가', 42),\n",
              "             ('공포', 7),\n",
              "             ('가져오는', 2),\n",
              "             ('착각', 9),\n",
              "             ('것임', 15),\n",
              "             ('기', 37),\n",
              "             ('사', 78),\n",
              "             ('나오겠노', 1),\n",
              "             ('슬럼', 157),\n",
              "             ('난민', 100),\n",
              "             ('많아지더구먼', 1),\n",
              "             ('후발', 51),\n",
              "             ('가사', 5),\n",
              "             ('노', 110),\n",
              "             ('보석', 2),\n",
              "             ('아껴서', 3),\n",
              "             ('꽁꽁', 6),\n",
              "             ('깜', 3),\n",
              "             ('춘다는데', 1),\n",
              "             ('돌멩이', 1),\n",
              "             ('이면', 53),\n",
              "             ('보여주면서', 1),\n",
              "             ('자랑', 40),\n",
              "             ('싶지', 8),\n",
              "             ('보여줘', 2),\n",
              "             ('똥꼬', 94),\n",
              "             ('충', 378),\n",
              "             ('양성애자', 6),\n",
              "             ('깝', 11),\n",
              "             ('보더', 3),\n",
              "             ('르', 4),\n",
              "             ('제목', 17),\n",
              "             ('성소수자', 71),\n",
              "             ('대우', 7),\n",
              "             ('고충', 93),\n",
              "             ('추정', 3),\n",
              "             ('사진', 71),\n",
              "             ('올라오면', 3),\n",
              "             ('따먹고', 9),\n",
              "             ('싶다고', 6),\n",
              "             ('지랄', 208),\n",
              "             ('넘으면', 5),\n",
              "             ('상폐', 37),\n",
              "             ('타령', 21),\n",
              "             ('베', 56),\n",
              "             ('다르노', 1),\n",
              "             ('손', 44),\n",
              "             ('바짝', 2),\n",
              "             ('졸기는', 1),\n",
              "             ('자고로', 1),\n",
              "             ('좃', 8),\n",
              "             ('살아야', 12),\n",
              "             ('맵', 5),\n",
              "             ('국산', 7),\n",
              "             ('특징', 31),\n",
              "             ('정확하니', 1),\n",
              "             ('잘못', 56),\n",
              "             ('인정', 90),\n",
              "             ('일찍이', 1),\n",
              "             ('뒤진', 27),\n",
              "             ('상도', 7),\n",
              "             ('덕이', 2),\n",
              "             ('없다기', 5),\n",
              "             ('기도', 53),\n",
              "             ('대단하다고', 2),\n",
              "             ('만나면', 9),\n",
              "             ('분노', 10),\n",
              "             ('살인', 42),\n",
              "             ('태어난', 13),\n",
              "             ('여섯', 1),\n",
              "             ('조각', 5),\n",
              "             ('찢어', 10),\n",
              "             ('죽여야', 23),\n",
              "             ('관음사', 1),\n",
              "             ('인생', 62),\n",
              "             ('풋', 5),\n",
              "             ('다문화', 93),\n",
              "             ('혐', 103),\n",
              "             ('맞고', 22),\n",
              "             ('다인', 4),\n",
              "             ('종도', 1),\n",
              "             ('위험하긴', 1),\n",
              "             ('베서', 1),\n",
              "             ('혐씹극', 1),\n",
              "             ('변하는', 2),\n",
              "             ('뭉쳐서', 3),\n",
              "             ('시', 325),\n",
              "             ('위해', 68),\n",
              "             ('들을', 7),\n",
              "             ('말랑하는데', 1),\n",
              "             ('일베충', 20),\n",
              "             ('그럴', 25),\n",
              "             ('위인', 6),\n",
              "             ('글러', 2),\n",
              "             ('먹었다', 4),\n",
              "             ('생각', 390),\n",
              "             ('찾으면', 3),\n",
              "             ('과학', 24),\n",
              "             ('증거', 27),\n",
              "             ('팔', 139),\n",
              "             ('먹었구먼', 1),\n",
              "             ('백인', 12),\n",
              "             ('낳으니', 1),\n",
              "             ('기독교', 116),\n",
              "             ('이민', 29),\n",
              "             ('나가니', 1),\n",
              "             ('늘어나고', 1),\n",
              "             ('베스트', 9),\n",
              "             ('가라', 34),\n",
              "             ('문프발', 1),\n",
              "             ('바이러스', 20),\n",
              "             ('사실이었노', 2),\n",
              "             ('다가', 28),\n",
              "             ('밤', 13),\n",
              "             ('꽃', 6),\n",
              "             ('냄새', 52),\n",
              "             ('액체', 1),\n",
              "             ('살며', 1),\n",
              "             ('발라줘라', 1),\n",
              "             ('버러지', 10),\n",
              "             ('기생충', 7),\n",
              "             ('회임', 1),\n",
              "             ('인권', 117),\n",
              "             ('복지', 7),\n",
              "             ('삼청', 2),\n",
              "             ('필요하다', 10),\n",
              "             ('입', 79),\n",
              "             ('갤이', 1),\n",
              "             ('숙대', 6),\n",
              "             ('높냐', 2),\n",
              "             ('동대', 2),\n",
              "             ('꼴펨', 1),\n",
              "             ('많나', 1),\n",
              "             ('시벌', 4),\n",
              "             ('터키', 7),\n",
              "             ('보수', 36),\n",
              "             ('마인드', 25),\n",
              "             ('좋아했는데', 2),\n",
              "             ('동성애자', 82),\n",
              "             ('정도', 150),\n",
              "             ('날뛰는', 3),\n",
              "             ('없네', 37),\n",
              "             ('여대', 11),\n",
              "             ('없애라', 8),\n",
              "             ('대가', 38),\n",
              "             ('있는지', 12),\n",
              "             ('이해', 87),\n",
              "             ('안감', 2),\n",
              "             ('해보니', 7),\n",
              "             ('투신', 1),\n",
              "             ('자살', 39),\n",
              "             ('일까', 19),\n",
              "             ('르노', 7),\n",
              "             ('강간', 67),\n",
              "             ('하려다가', 2),\n",
              "             ('밀어서', 1),\n",
              "             ('떨어트린', 1),\n",
              "             ('아니노', 16),\n",
              "             ('환경', 14),\n",
              "             ('야만', 2),\n",
              "             ('감형', 3),\n",
              "             ('제대로', 54),\n",
              "             ('처벌', 52),\n",
              "             ('할까', 13),\n",
              "             ('불우하고', 1),\n",
              "             ('폭력', 30),\n",
              "             ('자라면', 2),\n",
              "             ('때려', 21),\n",
              "             ('죽여도', 10),\n",
              "             ('조선족', 174),\n",
              "             ('백린탄', 3),\n",
              "             ('멸해', 1),\n",
              "             ('종족', 13),\n",
              "             ('문화', 78),\n",
              "             ('존중', 34),\n",
              "             ('지속', 5),\n",
              "             ('시키며', 1),\n",
              "             ('행복하게', 4),\n",
              "             ('사는', 116),\n",
              "             ('건대', 4),\n",
              "             ('부랄', 81),\n",
              "             ('불필요하다', 1),\n",
              "             ('속', 73),\n",
              "             ('숨어', 5),\n",
              "             ('살면서', 18),\n",
              "             ('소수자', 34),\n",
              "             ('만들고', 15),\n",
              "             ('불편해', 2),\n",
              "             ('불의', 5),\n",
              "             ('도시', 14),\n",
              "             ('마', 73),\n",
              "             ('경상도', 75),\n",
              "             ('사나이', 2),\n",
              "             ('뜨', 7),\n",
              "             ('아이', 100),\n",
              "             ('욱일기', 9),\n",
              "             ('침략', 5),\n",
              "             ('당한', 18),\n",
              "             ('적도', 4),\n",
              "             ('없고', 82),\n",
              "             ('일본', 112),\n",
              "             ('일본군', 2),\n",
              "             ('되어서', 8),\n",
              "             ('들고', 28),\n",
              "             ('아시아', 15),\n",
              "             ('정벌', 1),\n",
              "             ('만든', 25),\n",
              "             ('욱', 5),\n",
              "             ('일기', 5),\n",
              "             ('당했다고', 3),\n",
              "             ('군복', 3),\n",
              "             ('입고', 30),\n",
              "             ('가해', 7),\n",
              "             ('다녔는', 1),\n",
              "             ('족', 35),\n",
              "             ('신분', 6),\n",
              "             ('세탁', 9),\n",
              "             ('급식', 119),\n",
              "             ('분탕', 34),\n",
              "             ('처리', 15),\n",
              "             ('벤하면', 1),\n",
              "             ('되나', 12),\n",
              "             ('권유', 1),\n",
              "             ('시대', 40),\n",
              "             ('오노', 5),\n",
              "             ('주적', 6),\n",
              "             ('버버하', 1),\n",
              "             ('가까운', 6),\n",
              "             ('신안', 8),\n",
              "             ('보낸', 5),\n",
              "             ('세상', 125),\n",
              "             ('찾지', 4),\n",
              "             ('소수', 14),\n",
              "             ('많은', 69),\n",
              "             ('인력', 4),\n",
              "             ('예산', 9),\n",
              "             ('낭비', 9),\n",
              "             ('탁상', 1),\n",
              "             ('행정', 3),\n",
              "             ('끝판', 3),\n",
              "             ('심심할', 1),\n",
              "             ('마주치면', 3),\n",
              "             ('번', 151),\n",
              "             ('비', 53),\n",
              "             ('틀어주고', 1),\n",
              "             ('도망가고', 2),\n",
              "             ('싶게', 3),\n",
              "             ('생겼노', 10),\n",
              "             ('수치심', 3),\n",
              "             ('잘', 290),\n",
              "             ('들자', 17),\n",
              "             ('걸음', 1),\n",
              "             ('뛰다가', 1),\n",
              "             ('꿀꿀', 3),\n",
              "             ('선하다', 1),\n",
              "             ('지지', 48),\n",
              "             ('솔직히', 7),\n",
              "             ('는', 69),\n",
              "             ('있다고', 45),\n",
              "             ('시발', 110),\n",
              "             ('이제', 18),\n",
              "             ('러브', 7),\n",
              "             ('강제', 27),\n",
              "             ('찍게', 2),\n",
              "             ('돼', 81),\n",
              "             ('발라', 2),\n",
              "             ('중국인', 35),\n",
              "             ('보다라니', 1),\n",
              "             ('동일', 2),\n",
              "             ('아따', 15),\n",
              "             ('봐도', 78),\n",
              "             ('키부', 2),\n",
              "             ('조지', 12),\n",
              "             ('빱빱빱빱빱', 6),\n",
              "             ('담', 13),\n",
              "             ('우산', 2),\n",
              "             ('접었다', 1),\n",
              "             ('폈다', 1),\n",
              "             ('잊지', 8),\n",
              "             ('제발', 89),\n",
              "             ('성', 106),\n",
              "             ('관', 44),\n",
              "             ('해서만', 1),\n",
              "             ('은', 54),\n",
              "             ('관대하지', 1),\n",
              "             ('맙시', 7),\n",
              "             ('인류', 19),\n",
              "             ('미래', 34),\n",
              "             ('연관', 4),\n",
              "             ('봅니다', 17),\n",
              "             ('차별', 168),\n",
              "             ('금지법', 51),\n",
              "             ('절대', 95),\n",
              "             ('반대', 118),\n",
              "             ('다수', 20),\n",
              "             ('역차별', 18),\n",
              "             ('당하는', 28),\n",
              "             ('일단', 47),\n",
              "             ('뚫어라', 1),\n",
              "             ('고분', 1),\n",
              "             ('해진', 2),\n",
              "             ('손정우', 1),\n",
              "             ('미국', 116),\n",
              "             ('보내지도', 1),\n",
              "             ('않고', 35),\n",
              "             ('건', 83),\n",
              "             ('공조', 1),\n",
              "             ('요청', 4),\n",
              "             ('결과', 27),\n",
              "             ('나오면', 20),\n",
              "             ('그것', 36),\n",
              "             ('기사', 112),\n",
              "             ('크게', 14),\n",
              "             ('써주시길', 1),\n",
              "             ('손동작', 1),\n",
              "             ('해외', 21),\n",
              "             ('널리', 7),\n",
              "             ('알려지는구나', 1),\n",
              "             ('어제', 15),\n",
              "             ('무', 36),\n",
              "             ('슨', 11),\n",
              "             ('날', 85),\n",
              "             ('쓰까', 10),\n",
              "             ('국', 35),\n",
              "             ('가야', 19),\n",
              "             ('서머', 1),\n",
              "             ('한잔', 2),\n",
              "             ('갔는데', 1),\n",
              "             ('모', 40),\n",
              "             ('가던데', 2),\n",
              "             ('빠개면', 1),\n",
              "             ('가길래', 1),\n",
              "             ('알라', 19),\n",
              "             ('아크바르', 3),\n",
              "             ('지나가니깐', 1),\n",
              "             ('리더', 8),\n",
              "             ('남녀', 50),\n",
              "             ('헐벗', 1),\n",
              "             ('춤추고', 2),\n",
              "             ('퍼레이드', 8),\n",
              "             ('콘돔', 13),\n",
              "             ('나눠주면', 2),\n",
              "             ('바로', 66),\n",
              "             ('잡혀갈', 2),\n",
              "             ('동성', 35),\n",
              "             ('애자', 4),\n",
              "             ('항문', 15),\n",
              "             ('나눠주는', 2),\n",
              "             ('가만둘까', 1),\n",
              "             ('웜련들', 4),\n",
              "             ('놀이터', 3),\n",
              "             ('헐', 11),\n",
              "             ('비정상', 13),\n",
              "             ('아니고', 97),\n",
              "             ('에이즈', 93),\n",
              "             ('범', 20),\n",
              "             ('동꼬', 4),\n",
              "             ('통계', 9),\n",
              "             ('되었음', 4),\n",
              "             ('울려라', 1),\n",
              "             ('와인', 1),\n",
              "             ('병', 56),\n",
              "             ('남중', 23),\n",
              "             ('틀니', 32),\n",
              "             ('나간다', 1),\n",
              "             ('삼기야', 1),\n",
              "             ('틀', 244),\n",
              "             ('따라', 37),\n",
              "             ('닥', 2),\n",
              "             ('부와', 1),\n",
              "             ('라라라', 1),\n",
              "             ('악', 31),\n",
              "             ('후두두', 1),\n",
              "             ('두둑', 4),\n",
              "             ('포괄', 9),\n",
              "             ('인구', 32),\n",
              "             ('차지', 2),\n",
              "             ('먹어선', 1),\n",
              "             ('고기', 20),\n",
              "             ('먹었다고', 3),\n",
              "             ('토종', 3),\n",
              "             ('의', 25),\n",
              "             ('목', 16),\n",
              "             ('썰', 12),\n",
              "             ('국내', 16),\n",
              "             ('정치인', 16),\n",
              "             ('맞서', 1),\n",
              "             ('즉각', 3),\n",
              "             ('바꿈', 1),\n",
              "             ('선언', 2),\n",
              "             ('사전', 2),\n",
              "             ('오프모임', 1),\n",
              "             ('떼고', 3),\n",
              "             ('시나', 1),\n",
              "             ('보러', 7),\n",
              "             ('간', 77),\n",
              "             ('미쳐', 12),\n",
              "             ('버리겠네', 1),\n",
              "             ('여자친구', 13),\n",
              "             ('생기', 20),\n",
              "             ('맘', 179),\n",
              "             ('진상', 7),\n",
              "             ('낳은', 9),\n",
              "             ('장미', 1),\n",
              "             ('칼', 28),\n",
              "             ('미만', 10),\n",
              "             ('잡', 27),\n",
              "             ('여잔', 3),\n",
              "             ('찬성', 24),\n",
              "             ('신체', 15),\n",
              "             ('차이는', 6),\n",
              "             ('있기', 7),\n",
              "             ('취사', 3),\n",
              "             ('군인', 19),\n",
              "             ('지원', 36),\n",
              "             ('한다고', 9),\n",
              "             ('봄', 34),\n",
              "             ('개좆', 7),\n",
              "             ('같네', 29),\n",
              "             ('단속', 11),\n",
              "             ('하나', 39),\n",
              "             ('씨발', 97),\n",
              "             ('꾸는', 8),\n",
              "             ('형제', 8),\n",
              "             ('국가', 101),\n",
              "             ('세', 61),\n",
              "             ('끼', 35),\n",
              "             ('뭔가', 33),\n",
              "             ('혐오', 125),\n",
              "             ('있게', 14),\n",
              "             ('생', 33),\n",
              "             ('김', 31),\n",
              "             ('유전자', 18),\n",
              "             ('다른', 137),\n",
              "             ...])"
            ]
          },
          "metadata": {},
          "execution_count": 26
        }
      ]
    },
    {
      "cell_type": "code",
      "source": [
        "most_freq = sorted(tokenizer.word_counts.items(), key=lambda item: item[1], reverse=True)\n",
        "most_freq[:10]\n",
        "# 상위 빈도수 10개 형태소 추출"
      ],
      "metadata": {
        "colab": {
          "base_uri": "https://localhost:8080/"
        },
        "id": "yaKbA_1B04ZW",
        "outputId": "663ca6a7-efd2-4de1-9f0c-05c1871a4976"
      },
      "execution_count": 27,
      "outputs": [
        {
          "output_type": "execute_result",
          "data": {
            "text/plain": [
              "[('새끼', 1509),\n",
              " ('것', 783),\n",
              " ('한', 695),\n",
              " ('좆', 685),\n",
              " ('여자', 644),\n",
              " ('말', 621),\n",
              " ('개', 596),\n",
              " ('사람', 551),\n",
              " ('할', 525),\n",
              " ('저', 524)]"
            ]
          },
          "metadata": {},
          "execution_count": 27
        }
      ]
    },
    {
      "cell_type": "code",
      "source": [
        "count = 0\n",
        "for word, word_count in tokenizer.word_counts.items():\n",
        "    if word_count > 2:\n",
        "        count += 1\n",
        "print(count)\n",
        "# 3번 이상 등장한 형태소의 개수"
      ],
      "metadata": {
        "colab": {
          "base_uri": "https://localhost:8080/"
        },
        "id": "8astHrP_v6o5",
        "outputId": "1a022438-c7e0-443c-d445-6bfef45180cf"
      },
      "execution_count": 28,
      "outputs": [
        {
          "output_type": "stream",
          "name": "stdout",
          "text": [
            "6764\n"
          ]
        }
      ]
    },
    {
      "cell_type": "code",
      "source": [
        "num_words = 8000\n",
        "# 상위 빈도수 8000개\n",
        "tokenizer = Tokenizer(num_words, oov_token=\"<OOV>\")\n",
        "# 상위 빈도수 num_words 개에 대한 토큰화 모델 생성, 8000개에 포함되지 않는 경우 OOV로 처리\n",
        "tokenizer.fit_on_texts(train_x)\n",
        "# 훈련데이터에 대해 상위 빈도수 num_words개에 대한 토큰화 모델 "
      ],
      "metadata": {
        "id": "0HyRCrqZv-5G"
      },
      "execution_count": 29,
      "outputs": []
    },
    {
      "cell_type": "code",
      "source": [
        "# 문장을 인덱스 벡터로 변환\n",
        "train_x = tokenizer.texts_to_sequences(train_x)\n",
        "test_x = tokenizer.texts_to_sequences(test_x)"
      ],
      "metadata": {
        "id": "_XDtcWgqt_hQ"
      },
      "execution_count": 30,
      "outputs": []
    },
    {
      "cell_type": "code",
      "source": [
        "# 패딩 전 벡터의 길이 분포 파악 --> 대부분 5~15 정도의 크기를 가짐\n",
        "print('문장의 최대 길이 : {}'.format(max(len(l) for l in train_x)))\n",
        "print('문장의 평균 길이 : {}'.format(sum(map(len, train_x))/len(train_x)))\n",
        "plt.hist([len(s) for s in train_x], bins=50)\n",
        "plt.xlabel('length of samples')\n",
        "plt.ylabel('number of samples')\n",
        "plt.show()"
      ],
      "metadata": {
        "colab": {
          "base_uri": "https://localhost:8080/",
          "height": 316
        },
        "id": "nH7QTBIGcmfw",
        "outputId": "7844f140-30ae-4481-f3f9-8aa2b506607d"
      },
      "execution_count": 31,
      "outputs": [
        {
          "output_type": "stream",
          "name": "stdout",
          "text": [
            "문장의 최대 길이 : 72\n",
            "문장의 평균 길이 : 10.252673137029117\n"
          ]
        },
        {
          "output_type": "display_data",
          "data": {
            "text/plain": [
              "<Figure size 432x288 with 1 Axes>"
            ],
            "image/png": "[encoded data removed]"
          },
          "metadata": {
            "needs_background": "light"
          }
        }
      ]
    },
    {
      "cell_type": "code",
      "source": [
        "# 데이터 패딩\n",
        "max_len = 20\n",
        "# 패딩 사이즈\n",
        "train_x = pad_sequences(train_x, maxlen=max_len)\n",
        "# 훈련 데이터 패딩\n",
        "test_x = pad_sequences(test_x, maxlen=max_len)\n",
        "# 테스트 데이터 패딩"
      ],
      "metadata": {
        "id": "Z1tCSqELwOxt"
      },
      "execution_count": 32,
      "outputs": []
    },
    {
      "cell_type": "code",
      "source": [
        "# 데이터 불균형 해결을 위한 오버샘플링 기법 - SMOTE\n",
        "from imblearn.over_sampling import SMOTE\n",
        "train_x, train_y = SMOTE(random_state=0).fit_resample(train_x, train_y)\n",
        "count_and_plot(train_y)"
      ],
      "metadata": {
        "colab": {
          "base_uri": "https://localhost:8080/",
          "height": 320
        },
        "id": "ob7GG9UpAxJj",
        "outputId": "8a19b863-55bd-43a8-99f5-b60f8683638c"
      },
      "execution_count": 33,
      "outputs": [
        {
          "output_type": "stream",
          "name": "stdout",
          "text": [
            "Class=0, n=6625 (33.333%)\n",
            "Class=1, n=6625 (33.333%)\n",
            "Class=2, n=6625 (33.333%)\n"
          ]
        },
        {
          "output_type": "display_data",
          "data": {
            "text/plain": [
              "<Figure size 432x288 with 1 Axes>"
            ],
            "image/png": "[encoded data removed]"
          },
          "metadata": {
            "needs_background": "light"
          }
        }
      ]
    },
    {
      "cell_type": "code",
      "source": [
        "# target data one hot encoding\n",
        "train_y = to_categorical(train_y)\n",
        "test_y = to_categorical(test_y)"
      ],
      "metadata": {
        "id": "fVTOUqVYOcYK"
      },
      "execution_count": 34,
      "outputs": []
    },
    {
      "cell_type": "code",
      "source": [
        "# 모델 평가 함수 정의\n",
        "def get_eval(y_test, pred):\n",
        "    accuracy = accuracy_score(y_test, pred)\n",
        "    precision = precision_score(y_test, pred)\n",
        "    recall = recall_score(y_test, pred)\n",
        "    f1_score = f1_score(y_test,pred)\n",
        "    return accuracy, precision, recall, f1_score"
      ],
      "metadata": {
        "id": "aUsbmr0ZYX1P"
      },
      "execution_count": 35,
      "outputs": []
    },
    {
      "cell_type": "markdown",
      "source": [
        "##Bidirectional LSTM model"
      ],
      "metadata": {
        "id": "8JKLR0xGgKKq"
      }
    },
    {
      "cell_type": "code",
      "source": [
        "from tensorflow.keras.layers import Dense, SimpleRNN, LSTM, Embedding, Dropout\n",
        "from tensorflow.keras.layers import Input, LSTM, Bidirectional, Concatenate\n",
        "from keras.callbacks import EarlyStopping"
      ],
      "metadata": {
        "id": "LW9r502ijgtT"
      },
      "execution_count": 36,
      "outputs": []
    },
    {
      "cell_type": "code",
      "source": [
        "# 바다나우 어텐션 정의\n",
        "\n",
        "class BahdanauAttention(tf.keras.Model):\n",
        "  def __init__(self, units):\n",
        "    super(BahdanauAttention, self).__init__()\n",
        "    self.W1 = Dense(units)\n",
        "    self.W2 = Dense(units)\n",
        "    self.V = Dense(1)\n",
        "\n",
        "  def call(self, values, query): # 단, key와 value는 같음\n",
        "    # query shape == (batch_size, hidden size)\n",
        "    # hidden_with_time_axis shape == (batch_size, 1, hidden size)\n",
        "    # score 계산을 위해 뒤에서 할 덧셈을 위해서 차원 변경\n",
        "    hidden_with_time_axis = tf.expand_dims(query, 1)\n",
        "\n",
        "    # score shape == (batch_size, max_length, 1)\n",
        "    # we get 1 at the last axis because we are applying score to self.V\n",
        "    # the shape of the tensor before applying self.V is (batch_size, max_length, units)\n",
        "    score = self.V(tf.nn.tanh(\n",
        "        self.W1(values) + self.W2(hidden_with_time_axis)))\n",
        "\n",
        "    # attention_weights shape == (batch_size, max_length, 1)\n",
        "    attention_weights = tf.nn.softmax(score, axis=1)\n",
        "\n",
        "    # context_vector shape after sum == (batch_size, hidden_size)\n",
        "    context_vector = attention_weights * values\n",
        "    context_vector = tf.reduce_sum(context_vector, axis=1)\n",
        "\n",
        "    return context_vector, attention_weights"
      ],
      "metadata": {
        "id": "qArEf_l5ZvCX"
      },
      "execution_count": 37,
      "outputs": []
    },
    {
      "cell_type": "code",
      "source": [
        "# bidirectional LSTM model 설계\n",
        "sequence_input = Input(shape=(max_len,), dtype='int32')\n",
        "embedded_sequences = Embedding(num_words, 128, input_length=max_len, mask_zero = True)(sequence_input)\n",
        "lstm = Bidirectional(LSTM(64, dropout=0.5, recurrent_dropout = 0.5, return_sequences = True))(embedded_sequences)\n",
        "lstm, forward_h, forward_c, backward_h, backward_c = Bidirectional \\\n",
        "  (LSTM(64, dropout=0.5, recurrent_dropout = 0.5, return_sequences=True, return_state=True))(lstm)\n"
      ],
      "metadata": {
        "id": "BaEEDV-lXykf"
      },
      "execution_count": 38,
      "outputs": []
    },
    {
      "cell_type": "code",
      "source": [
        "print(lstm.shape, forward_h.shape, forward_c.shape, backward_h.shape, backward_c.shape)"
      ],
      "metadata": {
        "colab": {
          "base_uri": "https://localhost:8080/"
        },
        "id": "t6pl9XJhYkMT",
        "outputId": "7299a3b5-0a8a-4623-be57-d216da29e8e3"
      },
      "execution_count": 39,
      "outputs": [
        {
          "output_type": "stream",
          "name": "stdout",
          "text": [
            "(None, 20, 128) (None, 64) (None, 64) (None, 64) (None, 64)\n"
          ]
        }
      ]
    },
    {
      "cell_type": "code",
      "source": [
        "state_h = Concatenate()([forward_h, backward_h]) \n",
        "# 은닉 상태\n",
        "state_c = Concatenate()([forward_c, backward_c]) \n",
        "# 셀 상태"
      ],
      "metadata": {
        "id": "Wdkb8Pr_Y0r6"
      },
      "execution_count": 40,
      "outputs": []
    },
    {
      "cell_type": "code",
      "source": [
        "attention = BahdanauAttention(64) \n",
        "# 가중치 크기 정의\n",
        "context_vector, attention_weights = attention(lstm, state_h)"
      ],
      "metadata": {
        "id": "QqzpNXKTZ5-S"
      },
      "execution_count": 41,
      "outputs": []
    },
    {
      "cell_type": "code",
      "source": [
        "dense1 = Dense(40, activation=\"relu\")(context_vector) #40\n",
        "dropout = Dropout(0.5)(dense1)\n",
        "output = Dense(3, activation=\"softmax\")(dropout)\n",
        "model = models.Model(inputs=sequence_input, outputs=output)\n",
        "# 모델 설정"
      ],
      "metadata": {
        "id": "kNj5pPk-ZB1i"
      },
      "execution_count": 42,
      "outputs": []
    },
    {
      "cell_type": "code",
      "source": [
        "model.summary()"
      ],
      "metadata": {
        "colab": {
          "base_uri": "https://localhost:8080/"
        },
        "id": "duTwXEKIDPuD",
        "outputId": "cdb103e7-2c77-4e88-e75b-a118bcbf8c6f"
      },
      "execution_count": 43,
      "outputs": [
        {
          "output_type": "stream",
          "name": "stdout",
          "text": [
            "Model: \"model\"\n",
            "__________________________________________________________________________________________________\n",
            " Layer (type)                   Output Shape         Param #     Connected to                     \n",
            "==================================================================================================\n",
            " input_1 (InputLayer)           [(None, 20)]         0           []                               \n",
            "                                                                                                  \n",
            " embedding (Embedding)          (None, 20, 128)      1024000     ['input_1[0][0]']                \n",
            "                                                                                                  \n",
            " bidirectional (Bidirectional)  (None, 20, 128)      98816       ['embedding[0][0]']              \n",
            "                                                                                                  \n",
            " bidirectional_1 (Bidirectional  [(None, 20, 128),   98816       ['bidirectional[0][0]']          \n",
            " )                               (None, 64),                                                      \n",
            "                                 (None, 64),                                                      \n",
            "                                 (None, 64),                                                      \n",
            "                                 (None, 64)]                                                      \n",
            "                                                                                                  \n",
            " concatenate (Concatenate)      (None, 128)          0           ['bidirectional_1[0][1]',        \n",
            "                                                                  'bidirectional_1[0][3]']        \n",
            "                                                                                                  \n",
            " bahdanau_attention (BahdanauAt  ((None, 128),       16577       ['bidirectional_1[0][0]',        \n",
            " tention)                        (None, 20, 1))                   'concatenate[0][0]']            \n",
            "                                                                                                  \n",
            " dense_3 (Dense)                (None, 40)           5160        ['bahdanau_attention[0][0]']     \n",
            "                                                                                                  \n",
            " dropout (Dropout)              (None, 40)           0           ['dense_3[0][0]']                \n",
            "                                                                                                  \n",
            " dense_4 (Dense)                (None, 3)            123         ['dropout[0][0]']                \n",
            "                                                                                                  \n",
            "==================================================================================================\n",
            "Total params: 1,243,492\n",
            "Trainable params: 1,243,492\n",
            "Non-trainable params: 0\n",
            "__________________________________________________________________________________________________\n"
          ]
        }
      ]
    },
    {
      "cell_type": "code",
      "source": [
        "#optimizer = optimizers.SGD(momentum=0.9)\n",
        "model.compile(optimizer = 'adam', loss = 'categorical_crossentropy', metrics = ['acc'])"
      ],
      "metadata": {
        "id": "IKa7hbtfjRhl"
      },
      "execution_count": 44,
      "outputs": []
    },
    {
      "cell_type": "code",
      "source": [
        "# 모델 학습\n",
        "es = EarlyStopping (monitor = 'val_loss', mode = 'min', patience = 4)\n",
        "learn = model.fit(train_x, train_y, epochs = 100, batch_size = 64, \n",
        "                  callbacks = [es],validation_split = 0.2)"
      ],
      "metadata": {
        "colab": {
          "base_uri": "https://localhost:8080/"
        },
        "id": "5ekN3HsGk00w",
        "outputId": "541324c8-a34d-4d73-e2b7-4bb098e2a86f"
      },
      "execution_count": 45,
      "outputs": [
        {
          "output_type": "stream",
          "name": "stdout",
          "text": [
            "Epoch 1/100\n",
            "249/249 [==============================] - 76s 238ms/step - loss: 0.9434 - acc: 0.5762 - val_loss: 2.3196 - val_acc: 5.0314e-04\n",
            "Epoch 2/100\n",
            "249/249 [==============================] - 59s 236ms/step - loss: 0.7691 - acc: 0.6752 - val_loss: 2.4149 - val_acc: 0.0138\n",
            "Epoch 3/100\n",
            "249/249 [==============================] - 76s 306ms/step - loss: 0.6412 - acc: 0.7377 - val_loss: 2.9739 - val_acc: 0.0458\n",
            "Epoch 4/100\n",
            "249/249 [==============================] - 58s 234ms/step - loss: 0.5315 - acc: 0.7975 - val_loss: 2.9649 - val_acc: 0.1273\n",
            "Epoch 5/100\n",
            "249/249 [==============================] - 59s 237ms/step - loss: 0.4406 - acc: 0.8394 - val_loss: 3.3204 - val_acc: 0.1268\n"
          ]
        }
      ]
    },
    {
      "cell_type": "code",
      "execution_count": 46,
      "metadata": {
        "id": "8AlrKCqfTLl4",
        "colab": {
          "base_uri": "https://localhost:8080/",
          "height": 458
        },
        "outputId": "4eee6178-3865-4c6b-b813-99261158439b"
      },
      "outputs": [
        {
          "output_type": "display_data",
          "data": {
            "text/plain": [
              "<Figure size 1080x504 with 2 Axes>"
            ],
            "image/png": "[encoded data removed]"
          },
          "metadata": {
            "needs_background": "light"
          }
        }
      ],
      "source": [
        "plt.figure(figsize=(15,7))\n",
        "# 그래프의 크기\n",
        "plt.subplot(1, 2, 1)\n",
        "# (1, 2) 중 첫번째 그래프\n",
        "plt.title('Training & Validation loss')\n",
        "# 그래프의 타이틀\n",
        "plt.plot(learn.history['loss'], label='loss')\n",
        "# 선그래프 그리기\n",
        "plt.plot(learn.history['val_loss'], label='val_loss')\n",
        "# 선그래프 그리기\n",
        "plt.xlabel('epochs')\n",
        "# x축 라벨\n",
        "plt.ylabel('loss')\n",
        "# y축 라벨\n",
        "plt.legend()\n",
        "# 그리기에서의 label과 색, 모양을 기준으로 범례를 생성함\n",
        "plt.subplot(1,2,2)\n",
        "# (1, 2) 중 두번째 그래프\n",
        "plt.title('Training & Validation accuracy')\n",
        "# 그래프의 타이틀\n",
        "plt.plot(learn.history['acc'],label='acc')\n",
        "# 선그래프 그리기\n",
        "plt.plot(learn.history['val_acc'],label='val_acc')\n",
        "# 선그래프 그리기\n",
        "plt.xlabel('epochs')\n",
        "# x축 라벨\n",
        "plt.ylabel('acc')\n",
        "# y축 라벨\n",
        "plt.legend()\n",
        "# 그리기에서의 label과 색, 모양을 기준으로 범례를 생성함\n",
        "plt.show()\n",
        "# 출력"
      ]
    },
    {
      "cell_type": "code",
      "execution_count": 47,
      "metadata": {
        "colab": {
          "base_uri": "https://localhost:8080/",
          "height": 484
        },
        "id": "IL9cr_Cg9Dfd",
        "outputId": "b0deae11-edaf-46c9-b6ed-04456e8a3e71"
      },
      "outputs": [
        {
          "output_type": "stream",
          "name": "stdout",
          "text": [
            "117/117 [==============================] - 3s 24ms/step - loss: 0.9591 - acc: 0.6591\n"
          ]
        },
        {
          "output_type": "display_data",
          "data": {
            "text/plain": [
              "<Figure size 576x576 with 2 Axes>"
            ],
            "image/png": "[encoded data removed]"
          },
          "metadata": {
            "needs_background": "light"
          }
        }
      ],
      "source": [
        "evaluate = model.evaluate(test_x, test_y)\n",
        "# 모델의 손실 함수를 기준으로 평가함\n",
        "pred = model.predict(test_x)\n",
        "# 모델의 예측값\n",
        "pred = np.argmax(pred, axis=1)\n",
        "#  One Hot Encoding에서 범주형으로 변환\n",
        "true = np.argmax(test_y, axis=1)\n",
        "#  One Hot Encoding에서 범주형으로 변환\n",
        "matrix = confusion_matrix(true, pred, labels=range(3))\n",
        "# 실제값과 예측값 사이의 컨퓨젼 행렬\n",
        "df = pd.DataFrame(matrix, columns=range(3), index=range(3))\n",
        "# 히트맵을 그리기 위해 데이터프레임 형태로 변환\n",
        "plt.figure(figsize=(8, 8))\n",
        "# 그래프의 크기\n",
        "plt.title('confusion matrix')\n",
        "# 그래프의 타이틀\n",
        "plt.rcParams['axes.unicode_minus'] = False\n",
        "# unicode minus를 사용하지 않기 위한 설정 (minus 깨짐현상 방지)\n",
        "plt.rcParams['font.family'] = 'NanumGothic'\n",
        "# 폰트 글꼴 설정\n",
        "sns.set(font_scale=1.0)\n",
        "# 폰트 사이즈 설정\n",
        "sns.heatmap(df, annot=True, fmt='d', square=True, cmap='Blues',linewidths=.5,annot_kws={\"size\": 18})\n",
        "# 히트맵 그리기\n",
        "plt.xlabel('pred')\n",
        "# x축 라벨\n",
        "plt.ylabel('true')\n",
        "# y축 라벨\n",
        "plt.show()\n",
        "# 출력"
      ]
    },
    {
      "cell_type": "code",
      "source": [
        "print(classification_report(true, pred))"
      ],
      "metadata": {
        "colab": {
          "base_uri": "https://localhost:8080/"
        },
        "id": "IgmLYRKhgVpB",
        "outputId": "b479267e-fe81-47ff-e356-cab264688764"
      },
      "execution_count": 48,
      "outputs": [
        {
          "output_type": "stream",
          "name": "stdout",
          "text": [
            "              precision    recall  f1-score   support\n",
            "\n",
            "           0       0.52      0.58      0.55       935\n",
            "           1       0.79      0.80      0.80      2016\n",
            "           2       0.46      0.39      0.43       786\n",
            "\n",
            "    accuracy                           0.66      3737\n",
            "   macro avg       0.59      0.59      0.59      3737\n",
            "weighted avg       0.66      0.66      0.66      3737\n",
            "\n"
          ]
        }
      ]
    },
    {
      "cell_type": "markdown",
      "source": [
        "##CNN "
      ],
      "metadata": {
        "id": "8VN7zQL6rTnE"
      }
    },
    {
      "cell_type": "code",
      "source": [
        "# 다수의 커널을 사용할 경우에는 Funtional API를 사용\n",
        "from tensorflow.keras.models import Sequential, Model\n",
        "from tensorflow.keras.layers import Embedding, Dropout, Conv1D, GlobalMaxPooling1D, Dense, Input, Flatten, Concatenate, MaxPooling1D\n",
        "from tensorflow.keras.callbacks import EarlyStopping, ModelCheckpoint\n",
        "from tensorflow.keras.models import load_model"
      ],
      "metadata": {
        "id": "fk-52kkvd7Du"
      },
      "execution_count": 49,
      "outputs": []
    },
    {
      "cell_type": "code",
      "source": [
        "embedding_dim = 128\n",
        "dropout_prob = (0.5, 0.5) #임베딩 층 이후에는 50% 드롭아웃\n",
        "num_filters = 128"
      ],
      "metadata": {
        "id": "ukMpkKCpBRtS"
      },
      "execution_count": 50,
      "outputs": []
    },
    {
      "cell_type": "code",
      "source": [
        "vocab_size=8000\n",
        "model_input = Input(shape = (max_len,)) \n",
        "z = Embedding(vocab_size, embedding_dim, input_length = max_len, name=\"embedding\", mask_zero=True)(model_input)\n",
        "# 단어 집합의 크기(vocab_size) : 19416\n",
        "z = Dropout(dropout_prob[0])(z)"
      ],
      "metadata": {
        "id": "sx_H8DceBUiP"
      },
      "execution_count": 51,
      "outputs": []
    },
    {
      "cell_type": "code",
      "source": [
        "conv_blocks =[]\n",
        "\n",
        "for sz in [2,3,4]:\n",
        "    conv = Conv1D(filters = num_filters, \n",
        "                  kernel_size = sz,\n",
        "                  padding = 'valid',\n",
        "                  activation = 'relu',\n",
        "                  strides = 1)(z)\n",
        "    conv = GlobalMaxPooling1D()(conv) #maxpooling\n",
        "    conv = Flatten()(conv)\n",
        "    conv_blocks.append(conv)"
      ],
      "metadata": {
        "id": "RFtX8CDwBlsu"
      },
      "execution_count": 52,
      "outputs": []
    },
    {
      "cell_type": "code",
      "source": [
        "# 각각 maxpooling한 결과를 연결(concatenate) 한다.\n",
        "z = Concatenate()(conv_blocks) if len(conv_blocks) > 1 else conv_blocks[0]\n",
        "z = Dropout(dropout_prob[1])(z)\n",
        "z = Dense(128, activation=\"relu\")(z)\n",
        "model_output = Dense(3, activation=\"softmax\")(z)\n",
        "\n",
        "cnn_model = Model(model_input, model_output)\n",
        "cnn_model.compile(loss = 'categorical_crossentropy', optimizer = 'rmsprop', metrics=['acc'])"
      ],
      "metadata": {
        "id": "UlZqQNHdBtFc"
      },
      "execution_count": 53,
      "outputs": []
    },
    {
      "cell_type": "code",
      "source": [
        "es = EarlyStopping(monitor='val_loss', mode='min', verbose=1, patience=4)\n",
        "mc = ModelCheckpoint('CNN_model.h5', monitor='val_acc', mode='max', verbose=1, save_best_only=True)\n",
        "\n",
        "history = cnn_model.fit(train_x, train_y, batch_size = 64, epochs=10, validation_split=0.2, callbacks=[es])"
      ],
      "metadata": {
        "colab": {
          "base_uri": "https://localhost:8080/"
        },
        "id": "zhP32IkWBvaJ",
        "outputId": "25d20dfd-85c5-4646-caf1-12a15f263ddb"
      },
      "execution_count": 54,
      "outputs": [
        {
          "output_type": "stream",
          "name": "stdout",
          "text": [
            "Epoch 1/10\n",
            "249/249 [==============================] - 12s 43ms/step - loss: 0.9130 - acc: 0.5897 - val_loss: 1.7131 - val_acc: 0.0000e+00\n",
            "Epoch 2/10\n",
            "249/249 [==============================] - 10s 42ms/step - loss: 0.7971 - acc: 0.6467 - val_loss: 2.3555 - val_acc: 0.0556\n",
            "Epoch 3/10\n",
            "249/249 [==============================] - 10s 42ms/step - loss: 0.7251 - acc: 0.6879 - val_loss: 2.2632 - val_acc: 0.1203\n",
            "Epoch 4/10\n",
            "249/249 [==============================] - 12s 47ms/step - loss: 0.6676 - acc: 0.7235 - val_loss: 2.2908 - val_acc: 0.1316\n",
            "Epoch 5/10\n",
            "249/249 [==============================] - 11s 42ms/step - loss: 0.6113 - acc: 0.7559 - val_loss: 2.1131 - val_acc: 0.1404\n",
            "Epoch 5: early stopping\n"
          ]
        }
      ]
    },
    {
      "cell_type": "code",
      "execution_count": 55,
      "metadata": {
        "colab": {
          "base_uri": "https://localhost:8080/",
          "height": 464
        },
        "outputId": "df881178-39a7-40c6-8a77-7bac40fb1859",
        "id": "igQF4DUkT49I"
      },
      "outputs": [
        {
          "output_type": "display_data",
          "data": {
            "text/plain": [
              "<Figure size 1080x504 with 2 Axes>"
            ],
            "image/png": "[encoded data removed]"
          },
          "metadata": {}
        }
      ],
      "source": [
        "plt.figure(figsize=(15,7))\n",
        "# 그래프의 크기\n",
        "plt.subplot(1, 2, 1)\n",
        "# (1, 2) 중 첫번째 그래프\n",
        "plt.title('Training & Validation loss')\n",
        "# 그래프의 타이틀\n",
        "plt.plot(history.history['loss'], label='loss')\n",
        "# 선그래프 그리기\n",
        "plt.plot(history.history['val_loss'], label='val_loss')\n",
        "# 선그래프 그리기\n",
        "plt.xlabel('epochs')\n",
        "# x축 라벨\n",
        "plt.ylabel('loss')\n",
        "# y축 라벨\n",
        "plt.legend()\n",
        "# 그리기에서의 label과 색, 모양을 기준으로 범례를 생성함\n",
        "plt.subplot(1,2,2)\n",
        "# (1, 2) 중 두번째 그래프\n",
        "plt.title('Training & Validation accuracy')\n",
        "# 그래프의 타이틀\n",
        "plt.plot(history.history['acc'],label='acc')\n",
        "# 선그래프 그리기\n",
        "plt.plot(history.history['val_acc'],label='val_acc')\n",
        "# 선그래프 그리기\n",
        "plt.xlabel('epochs')\n",
        "# x축 라벨\n",
        "plt.ylabel('acc')\n",
        "# y축 라벨\n",
        "plt.legend()\n",
        "# 그리기에서의 label과 색, 모양을 기준으로 범례를 생성함\n",
        "plt.show()\n",
        "# 출력"
      ]
    },
    {
      "cell_type": "code",
      "execution_count": 56,
      "metadata": {
        "colab": {
          "base_uri": "https://localhost:8080/",
          "height": 484
        },
        "outputId": "cabfab66-4681-489d-a2ba-0a2407830015",
        "id": "r61HQmtAUOxb"
      },
      "outputs": [
        {
          "output_type": "stream",
          "name": "stdout",
          "text": [
            "117/117 [==============================] - 1s 6ms/step - loss: 0.6956 - acc: 0.7043\n"
          ]
        },
        {
          "output_type": "display_data",
          "data": {
            "text/plain": [
              "<Figure size 576x576 with 2 Axes>"
            ],
            "image/png": "[encoded data removed]"
          },
          "metadata": {}
        }
      ],
      "source": [
        "evaluate = cnn_model.evaluate(test_x, test_y)\n",
        "# 모델의 손실 함수를 기준으로 평가함\n",
        "pred = cnn_model.predict(test_x)\n",
        "# 모델의 예측값\n",
        "pred = np.argmax(pred, axis=1)\n",
        "#  One Hot Encoding에서 범주형으로 변환\n",
        "true = np.argmax(test_y, axis=1)\n",
        "#  One Hot Encoding에서 범주형으로 변환\n",
        "matrix = confusion_matrix(true, pred, labels=range(3))\n",
        "# 실제값과 예측값 사이의 컨퓨젼 행렬\n",
        "df = pd.DataFrame(matrix, columns=range(3), index=range(3))\n",
        "# 히트맵을 그리기 위해 데이터프레임 형태로 변환\n",
        "plt.figure(figsize=(8, 8))\n",
        "# 그래프의 크기\n",
        "plt.title('confusion matrix')\n",
        "# 그래프의 타이틀\n",
        "plt.rcParams['axes.unicode_minus'] = False\n",
        "# unicode minus를 사용하지 않기 위한 설정 (minus 깨짐현상 방지)\n",
        "plt.rcParams['font.family'] = 'NanumGothic'\n",
        "# 폰트 글꼴 설정\n",
        "sns.set(font_scale=1.0)\n",
        "# 폰트 사이즈 설정\n",
        "sns.heatmap(df, annot=True, fmt='d', square=True, cmap='Blues',linewidths=.5,annot_kws={\"size\": 18})\n",
        "# 히트맵 그리기\n",
        "plt.xlabel('pred')\n",
        "# x축 라벨\n",
        "plt.ylabel('true')\n",
        "# y축 라벨\n",
        "plt.show()\n",
        "# 출력"
      ]
    },
    {
      "cell_type": "code",
      "source": [
        "print(classification_report(true, pred))"
      ],
      "metadata": {
        "colab": {
          "base_uri": "https://localhost:8080/"
        },
        "id": "2jaLKqedXlyJ",
        "outputId": "70af86db-25bd-4c46-8e46-657db1156f23"
      },
      "execution_count": 57,
      "outputs": [
        {
          "output_type": "stream",
          "name": "stdout",
          "text": [
            "              precision    recall  f1-score   support\n",
            "\n",
            "           0       0.57      0.67      0.62       935\n",
            "           1       0.81      0.83      0.82      2016\n",
            "           2       0.58      0.41      0.48       786\n",
            "\n",
            "    accuracy                           0.70      3737\n",
            "   macro avg       0.65      0.64      0.64      3737\n",
            "weighted avg       0.70      0.70      0.70      3737\n",
            "\n"
          ]
        }
      ]
    },
    {
      "cell_type": "code",
      "source": [
        ""
      ],
      "metadata": {
        "id": "Eh3jTe48ZUFc"
      },
      "execution_count": 57,
      "outputs": []
    }
  ]
}